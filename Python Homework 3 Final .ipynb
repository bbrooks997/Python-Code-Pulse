{
 "cells": [
  {
   "cell_type": "code",
   "execution_count": 17,
   "id": "ababf969",
   "metadata": {},
   "outputs": [
    {
     "name": "stdout",
     "output_type": "stream",
     "text": [
      "Please enter a string: si\n",
      "The new string is: si\n"
     ]
    }
   ],
   "source": [
    "input_string = input(\"Please enter a string: \")         ## take input from user \n",
    "\n",
    "                                                        \n",
    "if len(input_string) < 3:\n",
    "                                                        ## Check the length of the input string ## If length is less than 3, leave it unchanged\n",
    "    result = input_string\n",
    "    \n",
    "elif input_string.endswith('ing'):\n",
    "                                                        ## If the string ends with 'ing', add 'ly' instead\n",
    "    result = input_string + 'ly'\n",
    "    \n",
    "else:\n",
    "                                                        ## Otherwise, add 'ing' at the end of the string\n",
    "    result = input_string + 'ing'\n",
    "\n",
    "\n",
    "print(\"The new string is: \" + str(result))              ## print the results from the string "
   ]
  },
  {
   "cell_type": "code",
   "execution_count": 15,
   "id": "47d03683",
   "metadata": {},
   "outputs": [
    {
     "name": "stdout",
     "output_type": "stream",
     "text": [
      "It is True that tuple (1, 2, (3, 4)) has a subtuple in it.\n",
      "It is False that tuple ('a', 'b', 'c', 'd') has a subtuple in it.\n",
      "It is False that tuple (1, 2, ['a', 'b']) has a subtuple in it.\n"
     ]
    }
   ],
   "source": [
    "def has_subtype(t):\n",
    "                                                            ## Iterate through each element in the tuple\n",
    "    for element in t:\n",
    "                                                            ## Check if the element is a tuple\n",
    "        if isinstance(element, tuple):\n",
    "            return True\n",
    "    return False\n",
    "\n",
    "                                                            ## Test cases\n",
    "test_tuples = [\n",
    "    (1, 2, (3, 4)),                                         ## Contains a tuple\n",
    "    ('a', 'b', 'c', 'd'),                                   ## Does not contain a tuple\n",
    "    (1, 2, ['a', 'b'])                                      ## Contains a list, not a tuple\n",
    "]\n",
    "\n",
    "                                                            ## Check each test case and print the result\n",
    "for test_tuple in test_tuples:\n",
    "    print(\"It is {} that tuple {} has a subtuple in it.\".format(has_subtype(test_tuple), test_tuple))"
   ]
  },
  {
   "cell_type": "code",
   "execution_count": 18,
   "id": "677f23c7",
   "metadata": {},
   "outputs": [
    {
     "name": "stdout",
     "output_type": "stream",
     "text": [
      "The input list is ['a', 'b', 'c', 'd'].\n",
      "The input integer is 5.\n",
      "The new list is ['a1', 'a2', 'a3', 'a4', 'a5', 'b1', 'b2', 'b3', 'b4', 'b5', 'c1', 'c2', 'c3', 'c4', 'c5', 'd1', 'd2', 'd3', 'd4', 'd5'].\n"
     ]
    }
   ],
   "source": [
    "def concat_list(strings, n):\n",
    "                                                                ## Create an empty list to store the concatenated results\n",
    "    concatenated_results = []\n",
    "    \n",
    "                                                                ## Loop over each string in the input list\n",
    "    for string in strings:\n",
    "                                                                ## Loop over the range of numbers from 1 to n (inclusive)\n",
    "        for number in range(1, n + 1):\n",
    "                                                                ## Concatenate string and number and append to the results list\n",
    "            concatenated_results.append(string + str(number))\n",
    "    \n",
    "                                                                ## Return the list of concatenated strings\n",
    "    return concatenated_results\n",
    "\n",
    "                                                                ## Example inputs from the instruction image\n",
    "input_strings = ['a', 'b', 'c', 'd']\n",
    "n = 5\n",
    "\n",
    "                                                                ## Call the function with the example inputs\n",
    "output = concat_list(input_strings, n)\n",
    "\n",
    "                                                                ## Print the inputs and the output\n",
    "print(\"The input list is {}.\".format(input_strings))\n",
    "print(\"The input integer is {}.\".format(n))\n",
    "print(\"The new list is {}.\".format(output))"
   ]
  },
  {
   "cell_type": "code",
   "execution_count": 20,
   "id": "984e0ab9",
   "metadata": {},
   "outputs": [
    {
     "name": "stdout",
     "output_type": "stream",
     "text": [
      "Please enter a sequence of words separated by colons:good:no:yes:hello:day:good:hello\n",
      "The new sorted list is: ['day', 'good', 'hello', 'no', 'yes']\n"
     ]
    }
   ],
   "source": [
    "def process_sequence_input():\n",
    "                                                                                    ## Prompt the user for input\n",
    "    sequence = input(\"Please enter a sequence of words separated by colons:\")\n",
    "    \n",
    "                                                                                    ## Check if colons are present in the input\n",
    "    if ':' not in sequence:\n",
    "        print(\"The sequence is not separated by colons\")\n",
    "    else:\n",
    "                                                                                    ## Split the sequence into a list of words using colons\n",
    "        words = sequence.split(':')\n",
    "                                                                                    ## Use a set to remove duplicate words, then convert back to a list\n",
    "        unique_words = list(set(words))\n",
    "                                                                                    ## Sort the list of unique words\n",
    "        unique_words.sort()\n",
    "                                                                                    ## Print the sorted list of unique words\n",
    "        print(\"The new sorted list is:\", unique_words)\n",
    "\n",
    "                                                                                    ## Call the function to prompt for user input\n",
    "process_sequence_input()\n"
   ]
  },
  {
   "cell_type": "code",
   "execution_count": 9,
   "id": "eb1e9cda",
   "metadata": {},
   "outputs": [
    {
     "name": "stdout",
     "output_type": "stream",
     "text": [
      "Step1List: [1, 2, 4, 7, 8, 11, 13, 14, 16, 17, 19]\n",
      "New List: [4, 16, 64, 196, 256]\n",
      "Sum of New List: 536\n"
     ]
    }
   ],
   "source": [
    "step1_list = [x for x in range(1, 21) if x % 3 != 0 and x % 5 != 0]     ##list of integers not divisible by 3 or 5 between 1 and 20\n",
    "\n",
    "                                                                        \n",
    "step2_list = [x**2 for x in step1_list if x % 2 == 0]                   ##list of squares of elements from Step1List that are divisible by 2 and sum it\n",
    "step2_list_sum = sum(step2_list)\n",
    "print(\"New List:\", step2_list)\n",
    "print(\"Sum of New List:\", step2_list_sum)"
   ]
  },
  {
   "cell_type": "code",
   "execution_count": null,
   "id": "62653c3f",
   "metadata": {},
   "outputs": [],
   "source": []
  }
 ],
 "metadata": {
  "kernelspec": {
   "display_name": "Python 3 (ipykernel)",
   "language": "python",
   "name": "python3"
  },
  "language_info": {
   "codemirror_mode": {
    "name": "ipython",
    "version": 3
   },
   "file_extension": ".py",
   "mimetype": "text/x-python",
   "name": "python",
   "nbconvert_exporter": "python",
   "pygments_lexer": "ipython3",
   "version": "3.11.5"
  }
 },
 "nbformat": 4,
 "nbformat_minor": 5
}
